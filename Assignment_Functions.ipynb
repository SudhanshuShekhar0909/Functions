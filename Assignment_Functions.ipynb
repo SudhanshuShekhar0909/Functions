{
  "nbformat": 4,
  "nbformat_minor": 0,
  "metadata": {
    "colab": {
      "provenance": []
    },
    "kernelspec": {
      "name": "python3",
      "display_name": "Python 3"
    },
    "language_info": {
      "name": "python"
    }
  },
  "cells": [
    {
      "cell_type": "markdown",
      "source": [
        "Assignment - Functions\n",
        "\n",
        "THEORY QUESTIONS\n",
        "\n",
        "1. What is the difference between a function and a method in Python?\n",
        "•\tFunction: A block of code defined using the def keyword, which performs a specific task and is independent of any object.\n",
        "\n",
        "Example:\n",
        "def greet(name):\n",
        "    return f\"Hello, {name}!\"\n",
        "print(greet(\"Alice\"))\n",
        "\n",
        "•\tMethod: A function that is defined inside a class and is associated with an object or the class itself.\n",
        "\n",
        "Example:\n",
        "class Person:\n",
        "    def greet(self, name):\n",
        "        return f\"Hello, {name}!\"\n",
        "person = Person()\n",
        "print(person.greet(\"Alice\"))\n",
        "\n",
        "2. Explain the concept of function arguments and parameters in Python.\n",
        "•\tParameters: Variables defined in a function signature to accept input values.\n",
        "•\tArguments: Actual values passed to the function when it is called.\n",
        "Example:\n",
        "\n",
        "def add(a, b):  # Parameters: a, b\n",
        "    return a + b\n",
        "result = add(5, 3)  # Arguments: 5, 3\n",
        "print(result)  # Output: 8\n",
        "\n",
        "3. What are the different ways to define and call a function in Python?\n",
        "•\tDefining:\n",
        "1.\tRegular function using def.\n",
        "2.\tAnonymous function using lambda.\n",
        "\n",
        "Example:\n",
        "Regular function\n",
        "def square(x):\n",
        "    return x * x\n",
        "\n",
        "Lambda function\n",
        "square_lambda = lambda x: x * x\n",
        "•\tCalling:\n",
        "print(square(4))        # Output: 16\n",
        "print(square_lambda(4)) # Output: 16\n",
        "\n",
        "4. What is the purpose of the `return` statement in a Python function?\n",
        "•\tThe return statement allows a function to send the result of its execution back to the caller.\n",
        "\n",
        "Example:\n",
        "def multiply(a, b):\n",
        "    return a * b\n",
        "print(multiply(4, 5))  # Output: 20\n",
        "\n",
        "5. What are iterators in Python and how do they differ from iterables?\n",
        "•\tIterable: An object capable of returning its members one at a time (e.g., list, string).\n",
        "•\tIterator: An object with a __next__() method to fetch values.\n",
        "\n",
        "Example:\n",
        "numbers = [1, 2, 3]\n",
        "iterator = iter(numbers)  # Create an iterator\n",
        "print(next(iterator))     # Output: 1\n",
        "print(next(iterator))     # Output: 2\n",
        "\n",
        "\n",
        "6. Explain the concept of generators in Python and how they are defined.\n",
        "•\tConcept: Generators are a special type of iterator defined using a function with the yield keyword. They produce items one at a time.\n",
        "\n",
        "Example:\n",
        "def count_up_to(n):\n",
        "    count = 1\n",
        "    while count <= n:\n",
        "        yield count\n",
        "        count += 1\n",
        "for number in count_up_to(3):\n",
        "    print(number)  # Outputs: 1, 2, 3\n",
        "\n",
        "7. What are the advantages of using generators over regular functions?\n",
        "\t Memory-efficient: They produce values on demand.\n",
        "   Easier to implement lazy evaluation.\n",
        "\t Useful for large datasets or infinite sequences.\n",
        "\n",
        "8. What is a lambda function in Python and when is it typically used?\n",
        "•\tConcept: An anonymous, single-expression function created using the lambda keyword.\n",
        "•\tUse Case: Commonly used for short, simple functions passed as arguments.\n",
        "\n",
        "Example:\n",
        "square = lambda x: x * x\n",
        "print(square(5))  # Output: 25\n",
        "\n",
        "9. Explain the purpose and usage of the `map()` function in Python.\n",
        "•\tPurpose: Applies a function to every item in an iterable and returns a map object.\n",
        "Example:\n",
        "nums = [1, 2, 3]\n",
        "squares = map(lambda x: x ** 2, nums)\n",
        "print(list(squares))  # Output: [1, 4, 9]\n",
        "\n",
        "\n",
        "10. What is the difference between `map()`, `reduce()`, and `filter()` functions in Python?\n",
        "•\tmap(): Applies a function to all elements in an iterable.\n",
        "Example: map(lambda x: x * 2, [1, 2, 3]) → [2, 4, 6]\n",
        "•\treduce(): Reduces the iterable to a single value by applying a function.\n",
        "Example: reduce(lambda x, y: x + y, [1, 2, 3]) → 6\n",
        "•\tfilter(): Filters elements based on a condition.\n",
        "Example: filter(lambda x: x > 1, [1, 2, 3]) → [2, 3]\n",
        "\n",
        "11. Using pen & Paper write the internal mechanism for sum operation using  reduce function on this given\n",
        "list:[47,11,42,13];\n",
        "\n",
        "\n"
      ],
      "metadata": {
        "id": "pgvsVo0LzSmF"
      }
    },
    {
      "cell_type": "code",
      "source": [
        "from functools import reduce\n",
        "\n",
        "numbers = [47, 11, 42, 13]\n",
        "result = reduce(lambda x, y: x + y, numbers)\n",
        "print(result)\n"
      ],
      "metadata": {
        "colab": {
          "base_uri": "https://localhost:8080/"
        },
        "id": "x1l7vf6AzdPm",
        "outputId": "f7873f42-07db-400f-ef20-d3cc5d74b8a8"
      },
      "execution_count": 3,
      "outputs": [
        {
          "output_type": "stream",
          "name": "stdout",
          "text": [
            "113\n"
          ]
        }
      ]
    },
    {
      "cell_type": "markdown",
      "source": [
        "***PRACTICAL QUESTIONS***"
      ],
      "metadata": {
        "id": "bldTUUp9zkC4"
      }
    },
    {
      "cell_type": "markdown",
      "source": [
        " 1. Write a Python function that takes a list of numbers as input and returns the sum of all even numbers in the list."
      ],
      "metadata": {
        "id": "qCHRVNVAzraI"
      }
    },
    {
      "cell_type": "code",
      "source": [
        "def sum_of_even_numbers(numbers):\n",
        "\n",
        "    return sum(num for num in numbers if num % 2 == 0)\n",
        "\n",
        "# Example\n",
        "numbers = [1, 2, 3, 4, 5, 6]\n",
        "result = sum_of_even_numbers(numbers)\n",
        "print(\"Sum of even numbers:\", result)\n"
      ],
      "metadata": {
        "colab": {
          "base_uri": "https://localhost:8080/"
        },
        "id": "cVOa3-Hj2ZFU",
        "outputId": "2938e564-5426-4f86-882f-834a542aec24"
      },
      "execution_count": 25,
      "outputs": [
        {
          "output_type": "stream",
          "name": "stdout",
          "text": [
            "Sum of even numbers: 12\n"
          ]
        }
      ]
    },
    {
      "cell_type": "markdown",
      "source": [
        "2. Create a Python function that accepts a string and returns the reverse of that string."
      ],
      "metadata": {
        "id": "Han7GVFM2fE6"
      }
    },
    {
      "cell_type": "code",
      "source": [
        "def reverse_string(input_string):\n",
        "\n",
        "    return input_string[::-1]\n",
        "\n",
        "# Example\n",
        "text = \"Sudhanshu\"\n",
        "result = reverse_string(text)\n",
        "print(\"Reversed string:\", result)\n"
      ],
      "metadata": {
        "colab": {
          "base_uri": "https://localhost:8080/"
        },
        "id": "fboW26tz2w5d",
        "outputId": "fdb3ccab-9b22-423d-fb2d-476cd36dd8a8"
      },
      "execution_count": 24,
      "outputs": [
        {
          "output_type": "stream",
          "name": "stdout",
          "text": [
            "Reversed string: uhsnahduS\n"
          ]
        }
      ]
    },
    {
      "cell_type": "markdown",
      "source": [
        "3. Implement a Python function that takes a list of integers and returns a new list containing the squares of\n",
        "each number."
      ],
      "metadata": {
        "id": "zZfgLsFN3Pnm"
      }
    },
    {
      "cell_type": "code",
      "source": [
        "def square_numbers(numbers):\n",
        "\n",
        "    return [num ** 2 for num in numbers]\n",
        "\n",
        "# Example:\n",
        "numbers = [1, 2, 3, 4, 5]\n",
        "result = square_numbers(numbers)\n",
        "print(\"Squared numbers:\", result)\n"
      ],
      "metadata": {
        "colab": {
          "base_uri": "https://localhost:8080/"
        },
        "id": "3GwkM3u33Shc",
        "outputId": "8f9562f6-2896-4503-e288-06b37489f781"
      },
      "execution_count": 23,
      "outputs": [
        {
          "output_type": "stream",
          "name": "stdout",
          "text": [
            "Squared numbers: [1, 4, 9, 16, 25]\n"
          ]
        }
      ]
    },
    {
      "cell_type": "markdown",
      "source": [
        "4. Write a Python function that checks if a given number is prime or not from 1 to 200."
      ],
      "metadata": {
        "id": "lM4Nfwb-3fbt"
      }
    },
    {
      "cell_type": "code",
      "source": [
        "def is_prime(number):\n",
        "\n",
        "    if number <= 1:\n",
        "        return False\n",
        "    for i in range(2, int(number ** 0.5) + 1):\n",
        "        if number % i == 0:\n",
        "            return False\n",
        "    return True\n",
        "\n",
        "# Example\n",
        "for num in range(1, 201):\n",
        "    if is_prime(num):\n",
        "        print(f\"{num} is prime\")\n"
      ],
      "metadata": {
        "colab": {
          "base_uri": "https://localhost:8080/"
        },
        "id": "myIKL2Ro3mAY",
        "outputId": "fd9da8ba-e67a-4bb6-c5cd-f1648c232f40"
      },
      "execution_count": 22,
      "outputs": [
        {
          "output_type": "stream",
          "name": "stdout",
          "text": [
            "2 is prime\n",
            "3 is prime\n",
            "5 is prime\n",
            "7 is prime\n",
            "11 is prime\n",
            "13 is prime\n",
            "17 is prime\n",
            "19 is prime\n",
            "23 is prime\n",
            "29 is prime\n",
            "31 is prime\n",
            "37 is prime\n",
            "41 is prime\n",
            "43 is prime\n",
            "47 is prime\n",
            "53 is prime\n",
            "59 is prime\n",
            "61 is prime\n",
            "67 is prime\n",
            "71 is prime\n",
            "73 is prime\n",
            "79 is prime\n",
            "83 is prime\n",
            "89 is prime\n",
            "97 is prime\n",
            "101 is prime\n",
            "103 is prime\n",
            "107 is prime\n",
            "109 is prime\n",
            "113 is prime\n",
            "127 is prime\n",
            "131 is prime\n",
            "137 is prime\n",
            "139 is prime\n",
            "149 is prime\n",
            "151 is prime\n",
            "157 is prime\n",
            "163 is prime\n",
            "167 is prime\n",
            "173 is prime\n",
            "179 is prime\n",
            "181 is prime\n",
            "191 is prime\n",
            "193 is prime\n",
            "197 is prime\n",
            "199 is prime\n"
          ]
        }
      ]
    },
    {
      "cell_type": "markdown",
      "source": [
        "5. Create an iterator class in Python that generates the Fibonacci sequence up to a specified number of\n",
        "terms."
      ],
      "metadata": {
        "id": "W2OHNJU932wZ"
      }
    },
    {
      "cell_type": "code",
      "source": [
        "class FibonacciIterator:\n",
        "\n",
        "    def __init__(self, n_terms):\n",
        "\n",
        "        self.n_terms = n_terms\n",
        "        self.current = 0\n",
        "        self.next = 1\n",
        "        self.count = 0\n",
        "\n",
        "    def __iter__(self):\n",
        "        return self\n",
        "\n",
        "    def __next__(self):\n",
        "        if self.count >= self.n_terms:\n",
        "            raise StopIteration\n",
        "        if self.count == 0:\n",
        "            self.count += 1\n",
        "            return self.current\n",
        "        elif self.count == 1:\n",
        "            self.count += 1\n",
        "            return self.next\n",
        "        else:\n",
        "            fib = self.current + self.next\n",
        "            self.current, self.next = self.next, fib\n",
        "            self.count += 1\n",
        "            return fib\n",
        "\n",
        "# Example\n",
        "fib_iterator = FibonacciIterator(10)\n",
        "for number in fib_iterator:\n",
        "    print(number, end=\" \")\n"
      ],
      "metadata": {
        "colab": {
          "base_uri": "https://localhost:8080/"
        },
        "id": "aLW2Ntku35F5",
        "outputId": "6821787e-93b2-4ad7-9be2-407380e07520"
      },
      "execution_count": 21,
      "outputs": [
        {
          "output_type": "stream",
          "name": "stdout",
          "text": [
            "0 1 1 2 3 5 8 13 21 34 "
          ]
        }
      ]
    },
    {
      "cell_type": "markdown",
      "source": [
        "6. Write a generator function in Python that yields the powers of 2 up to a given exponent."
      ],
      "metadata": {
        "id": "tl4nTk2M4gR3"
      }
    },
    {
      "cell_type": "code",
      "source": [
        "def powers_of_two(max_exponent):\n",
        "    for exponent in range(max_exponent + 1):\n",
        "        yield 2 ** exponent\n",
        "\n",
        "# Example\n",
        "for value in powers_of_two(5):\n",
        "    print(value)\n"
      ],
      "metadata": {
        "colab": {
          "base_uri": "https://localhost:8080/"
        },
        "id": "o744cExl4j8v",
        "outputId": "b162838d-b5d5-4285-8bb6-4015c29c937e"
      },
      "execution_count": 20,
      "outputs": [
        {
          "output_type": "stream",
          "name": "stdout",
          "text": [
            "1\n",
            "2\n",
            "4\n",
            "8\n",
            "16\n",
            "32\n"
          ]
        }
      ]
    },
    {
      "cell_type": "markdown",
      "source": [
        "7. Implement a generator function that reads a file line by line and yields each line as a string."
      ],
      "metadata": {
        "id": "bvSBv5K95STT"
      }
    },
    {
      "cell_type": "code",
      "source": [
        "def read_file_line_by_line(file_path):\n",
        "    with open(file_path, 'r') as file:\n",
        "        for line in file:\n",
        "            yield line.strip()\n",
        "\n"
      ],
      "metadata": {
        "id": "_ljc1sfj5TEQ"
      },
      "execution_count": 32,
      "outputs": []
    },
    {
      "cell_type": "markdown",
      "source": [
        "8. Use a lambda function in Python to sort a list of tuples based on the second element of each tuple."
      ],
      "metadata": {
        "id": "cwjucLjr59kT"
      }
    },
    {
      "cell_type": "code",
      "source": [
        "\n",
        "tuples_list = [(1, 3), (2, 1), (4, 2), (5, 0)]\n",
        "\n",
        "sorted_list = sorted(tuples_list, key=lambda x: x[1])\n",
        "\n",
        "print(sorted_list)\n"
      ],
      "metadata": {
        "colab": {
          "base_uri": "https://localhost:8080/"
        },
        "id": "JzEXCsug5-lU",
        "outputId": "6ddb9acf-2ed2-48ad-8edd-10e16fb44d0d"
      },
      "execution_count": 33,
      "outputs": [
        {
          "output_type": "stream",
          "name": "stdout",
          "text": [
            "[(5, 0), (2, 1), (4, 2), (1, 3)]\n"
          ]
        }
      ]
    },
    {
      "cell_type": "markdown",
      "source": [
        "9. Write a Python program that uses `map()` to convert a list of temperatures from Celsius to Fahrenheit."
      ],
      "metadata": {
        "id": "8NKAH66G6FKq"
      }
    },
    {
      "cell_type": "code",
      "source": [
        "\n",
        "celsius_temperatures = [0, 10, 20, 30, 40, 50]\n",
        "\n",
        "\n",
        "def celsius_to_fahrenheit(celsius):\n",
        "    return (celsius * 9/5) + 32\n",
        "\n",
        "\n",
        "fahrenheit_temperatures = list(map(celsius_to_fahrenheit, celsius_temperatures))\n",
        "\n",
        "\n",
        "print(fahrenheit_temperatures)\n"
      ],
      "metadata": {
        "colab": {
          "base_uri": "https://localhost:8080/"
        },
        "id": "QjzL2yLK6FzG",
        "outputId": "2b3573af-f6f8-47d4-ced4-8c490e82905f"
      },
      "execution_count": 34,
      "outputs": [
        {
          "output_type": "stream",
          "name": "stdout",
          "text": [
            "[32.0, 50.0, 68.0, 86.0, 104.0, 122.0]\n"
          ]
        }
      ]
    },
    {
      "cell_type": "markdown",
      "source": [
        "10. Create a Python program that uses `filter()` to remove all the vowels from a given string."
      ],
      "metadata": {
        "id": "FZndjXIO6Osu"
      }
    },
    {
      "cell_type": "code",
      "source": [
        "\n",
        "def remove_vowels(input_string):\n",
        "    vowels = \"aeiouAEIOU\"\n",
        "\n",
        "    result = ''.join(filter(lambda x: x not in vowels, input_string))\n",
        "    return result\n",
        "\n",
        "# Example\n",
        "input_string = \"Hello, Sudhanshu!\"\n",
        "output_string = remove_vowels(input_string)\n",
        "print(\"Original String:\", input_string)\n",
        "print(\"String after removing vowels:\", output_string)\n"
      ],
      "metadata": {
        "colab": {
          "base_uri": "https://localhost:8080/"
        },
        "id": "H7BJa7YE6R1O",
        "outputId": "c83aaceb-0e90-41c5-9771-ab8208928381"
      },
      "execution_count": 35,
      "outputs": [
        {
          "output_type": "stream",
          "name": "stdout",
          "text": [
            "Original String: Hello, Sudhanshu!\n",
            "String after removing vowels: Hll, Sdhnsh!\n"
          ]
        }
      ]
    },
    {
      "cell_type": "markdown",
      "source": [
        "11. Write a Python program, which returns a list with 2-tuples. Each tuple consists of the order number and the\n",
        "product of the price per item and the quantity. The product should be increased by 10,- € if the value of the\n",
        "order is smaller than 100,00 €.\n",
        "\n",
        "Write a Python program using lambda and map."
      ],
      "metadata": {
        "id": "2CxfkhJb6eH1"
      }
    },
    {
      "cell_type": "code",
      "source": [
        "\n",
        "orders = [\n",
        "    [34587, \"Learning Python, Mark Lutz\", 4, 40.95],\n",
        "    [98762, \"Programming Python, Mark Lutz\", 5, 56.80],\n",
        "    [77226, \"Head First Python, Paul Barry\", 3, 32.95],\n",
        "    [88112, \"Einführung in Python3, Bernd Klein\", 3, 24.99]\n",
        "]\n",
        "\n",
        "calculate_cost = lambda order: (\n",
        "    order[0],\n",
        "    round(order[2] * order[3] + (10 if order[2] * order[3] < 100 else 0), 2)\n",
        ")\n",
        "\n",
        "# Map to apply the function to each order\n",
        "result = list(map(calculate_cost, orders))\n",
        "\n",
        "\n",
        "print(result)"
      ],
      "metadata": {
        "colab": {
          "base_uri": "https://localhost:8080/"
        },
        "id": "bFFNAvFJ7Kjd",
        "outputId": "bb2a1400-2b12-4a10-d3ef-6a732ac82a93"
      },
      "execution_count": 36,
      "outputs": [
        {
          "output_type": "stream",
          "name": "stdout",
          "text": [
            "[(34587, 163.8), (98762, 284.0), (77226, 108.85), (88112, 84.97)]\n"
          ]
        }
      ]
    }
  ]
}